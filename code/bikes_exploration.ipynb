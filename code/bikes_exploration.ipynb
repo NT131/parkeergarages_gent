{
 "cells": [
  {
   "cell_type": "markdown",
   "id": "81864072-8d00-4375-b23e-06e8017e534d",
   "metadata": {},
   "source": [
    "# Set up"
   ]
  },
  {
   "cell_type": "code",
   "execution_count": 1,
   "id": "e4d40f2a-0858-4db8-a296-546e6eec48ca",
   "metadata": {},
   "outputs": [],
   "source": [
    "import dash\n",
    "from dash import html, dcc\n",
    "from dash.dependencies import Output, Input\n",
    "\n",
    "import geopandas as gpd\n",
    "\n",
    "import pandas as pd\n",
    "\n",
    "import plotly.express as px\n",
    "import plotly.graph_objects as go # to create table using graphical objects\n",
    "\n",
    "import requests\n",
    "\n",
    "\n",
    "import os \n",
    "import json\n",
    "from datetime import datetime\n",
    "\n",
    "import locale"
   ]
  },
  {
   "cell_type": "code",
   "execution_count": 2,
   "id": "1aeee1c7-4a66-4356-8c6e-b9815c8c9341",
   "metadata": {},
   "outputs": [],
   "source": [
    "# #*****************************************************************************\n",
    "# import plotly.io as pio\n",
    "# # Ensure plots are shown in browser (during exploration)\n",
    "# pio.renderers.default='browser' # set browser as renderer\n",
    "# #*****************************************************************************"
   ]
  },
  {
   "cell_type": "code",
   "execution_count": 3,
   "id": "42273200-9244-435e-9265-0448dbb1629f",
   "metadata": {},
   "outputs": [],
   "source": [
    "# show all outputs of cell, not merely of last line (i.e. default of Jupyter Notebook)\n",
    "from IPython.core.interactiveshell import InteractiveShell\n",
    "InteractiveShell.ast_node_interactivity = \"all\""
   ]
  },
  {
   "cell_type": "code",
   "execution_count": 4,
   "id": "057cb02f-43b5-43b2-a53d-62ef37480ef9",
   "metadata": {},
   "outputs": [
    {
     "data": {
      "text/plain": [
       "'nl_BE.utf-8'"
      ]
     },
     "execution_count": 4,
     "metadata": {},
     "output_type": "execute_result"
    }
   ],
   "source": [
    "# Set Belgium time (for Dutch-language indicators of last update time)\n",
    "locale.setlocale(locale.LC_TIME, 'nl_BE.utf-8')"
   ]
  },
  {
   "cell_type": "markdown",
   "id": "d80fcae9-1bbb-45d9-986e-b797c3718e28",
   "metadata": {},
   "source": [
    "# Fetch data"
   ]
  },
  {
   "cell_type": "markdown",
   "id": "6b6b5370-15ae-46d6-ac75-5fd43a04225c",
   "metadata": {},
   "source": [
    "With fetching, there is apparently a limit on the amount of bikes you can fetch (i.e. \" Invalid value for limit API parameter: 200 was found but -1 <= limit <= 100 is expected.\"). \n",
    "\n",
    "Therefore, we rely on the exports of the datasets and regularly update them, instead of relying on the API."
   ]
  },
  {
   "cell_type": "markdown",
   "id": "5fec73d6-611d-4a26-b8a1-a9591a9b5334",
   "metadata": {},
   "source": [
    "For some of the share bike brands, the exports take on a similar form / structure:\n",
    "* Dott\n",
    "* Bolt\n",
    "* Baqme\n",
    "\n",
    "Hence, to extract those, we can use a single function."
   ]
  },
  {
   "cell_type": "code",
   "execution_count": 5,
   "id": "d56d1894-49c5-49e6-a6ba-b3ce3389cdc5",
   "metadata": {},
   "outputs": [],
   "source": [
    "# Fetching data function (when using export function)\n",
    "def fetch_data_export(url: str, brand: str):\n",
    "    response = requests.get(url)\n",
    "    if response.status_code == 200:\n",
    "        data = response.json()  \n",
    "        \n",
    "        # # Convert 'last_reported' string to datetime\n",
    "        # for entry in data:\n",
    "        #     entry['last_reported'] = datetime.utcfromtimestamp(int(entry['last_reported'])).strftime('%Y-%m-%d %H:%M:%S')\n",
    "        \n",
    "        # Write new data to file\n",
    "        with open(f'../data/fetched_data_sharing_bikes_{brand}.json', 'w') as json_file:\n",
    "            json.dump(data, json_file) \n",
    "        print(f\"Data ({brand} bikes) fetched\")\n",
    "        # return json_data\n",
    "    \n",
    "    else:\n",
    "        print(f\"Failed to fetch data ({brand} bikes)\")"
   ]
  },
  {
   "cell_type": "markdown",
   "id": "7a7e51c6-8e34-43c1-b527-abbeb74f4614",
   "metadata": {},
   "source": [
    "First we obtain the urls to download the json experts for the various data sets (see https://data.stad.gent/explore/?disjunctive.keyword&disjunctive.theme&sort=modified&q=deelfiets). "
   ]
  },
  {
   "cell_type": "code",
   "execution_count": 6,
   "id": "8e5a7839-a39e-4482-a3c1-49dc2baf1ba8",
   "metadata": {},
   "outputs": [],
   "source": [
    "url_dott = \"https://data.stad.gent/api/explore/v2.1/catalog/datasets/dott-deelfietsen-gent/exports/json?lang=nl&timezone=Europe%2FBrussels\"\n",
    "# url_dott = \"https://data.stad.gent//api/explore/v2.1/catalog/datasets/dott-deelfietsen-gent/records?limit=20\"\n",
    "# url_dott = \"https://data.stad.gent/api/explore/v2.1/catalog/datasets/dott-deelfietsen-gent/records?limit=200\"\n",
    "\n",
    "\n",
    "url_bolt =\"https://data.stad.gent/api/explore/v2.1/catalog/datasets/bolt-deelfietsen-gent/exports/json?lang=nl&timezone=Europe%2FBrussels\"\n",
    "\n",
    "url_baqme = \"https://data.stad.gent/api/explore/v2.1/catalog/datasets/baqme-locaties-vrije-deelfietsen-gent/exports/json?lang=nl&timezone=Europe%2FBrussels\""
   ]
  },
  {
   "cell_type": "code",
   "execution_count": 7,
   "id": "ab9d28da-cba3-4a08-9dab-0732a8d2cee5",
   "metadata": {},
   "outputs": [
    {
     "name": "stdout",
     "output_type": "stream",
     "text": [
      "Data (Dott bikes) fetched\n",
      "Data (Bolt bikes) fetched\n",
      "Data (Baqme bikes) fetched\n"
     ]
    }
   ],
   "source": [
    "fetch_data_export(url_dott, 'Dott')\n",
    "fetch_data_export(url_bolt, 'Bolt')\n",
    "fetch_data_export(url_baqme, 'Baqme')"
   ]
  },
  {
   "cell_type": "markdown",
   "id": "98239a1d-a0c4-4b68-b0f3-00a34d4b65c4",
   "metadata": {},
   "source": [
    "Set up color dictionary to match brands with specific colors"
   ]
  },
  {
   "cell_type": "code",
   "execution_count": 8,
   "id": "1644c53b-aa22-4c0d-a045-fbe8a76765ae",
   "metadata": {},
   "outputs": [],
   "source": [
    "color_dict = {\n",
    "    'Dott': 'blue',\n",
    "    'Bolt': 'green',\n",
    "    'Baqme': 'red'\n",
    "}"
   ]
  },
  {
   "cell_type": "markdown",
   "id": "277c676b-1140-4204-b4df-3bff77fb4965",
   "metadata": {},
   "source": [
    "# Initialize data and app"
   ]
  },
  {
   "cell_type": "markdown",
   "id": "2ffa803b-af4d-4e54-a5b1-438a9a451ab3",
   "metadata": {},
   "source": [
    "Perform initial read-in of the filtered JSON file"
   ]
  },
  {
   "cell_type": "code",
   "execution_count": 9,
   "id": "c76bb3d3-e2c4-4702-98d2-b2d4f6500e4e",
   "metadata": {},
   "outputs": [],
   "source": [
    "with open('../data/fetched_data_sharing_bikes_Dott.json', 'r') as json_file:\n",
    "    data_json_dott = json.load(json_file)\n",
    "\n",
    "with open('../data/fetched_data_sharing_bikes_Bolt.json', 'r') as json_file:\n",
    "    data_json_bolt = json.load(json_file)\n",
    "\n",
    "with open('../data/fetched_data_sharing_bikes_Baqme.json', 'r') as json_file:\n",
    "    data_json_baqme = json.load(json_file)"
   ]
  },
  {
   "cell_type": "code",
   "execution_count": null,
   "id": "fca546cb-6ea7-4e57-8772-40d78789a2a4",
   "metadata": {},
   "outputs": [],
   "source": []
  },
  {
   "cell_type": "code",
   "execution_count": 10,
   "id": "51d5645b-db0c-43ef-a737-9019b7c3e29f",
   "metadata": {},
   "outputs": [
    {
     "data": {
      "text/plain": [
       "dict_keys(['bike_id', 'current_range_meters', 'is_disabled', 'is_reserved', 'last_reported', 'lat', 'lon', 'pricing_plan_id', 'rental_uris', 'vehicle_type_id', 'loc', 'time'])"
      ]
     },
     "execution_count": 10,
     "metadata": {},
     "output_type": "execute_result"
    },
    {
     "data": {
      "text/plain": [
       "dict_keys(['bike_id', 'lat', 'lon', 'current_range_meters', 'pricing_plan_id', 'vehicle_type_id', 'is_reserved', 'is_disabled', 'rental_uris', 'loc'])"
      ]
     },
     "execution_count": 10,
     "metadata": {},
     "output_type": "execute_result"
    },
    {
     "data": {
      "text/plain": [
       "dict_keys(['bike_id', 'lat', 'lon', 'is_reserved', 'is_disabled', 'vehicle_type_id', 'rental_uris', 'geopoint'])"
      ]
     },
     "execution_count": 10,
     "metadata": {},
     "output_type": "execute_result"
    },
    {
     "data": {
      "text/plain": [
       "{'bike_id': 'd34c263a-de32-4f23-ac1c-a6877e47c978',\n",
       " 'current_range_meters': 56700.00000000001,\n",
       " 'is_disabled': 0,\n",
       " 'is_reserved': 0,\n",
       " 'last_reported': '1705427263',\n",
       " 'lat': 51.040778,\n",
       " 'lon': 3.709855,\n",
       " 'pricing_plan_id': 'd4649cd8-e995-57b6-8381-556a0b27b9cf',\n",
       " 'rental_uris': '{\"android\": \"https://go.ridedott.com/vehicles/791S5P?platform=android\", \"ios\": \"https://go.ridedott.com/vehicles/791S5P?platform=ios\"}',\n",
       " 'vehicle_type_id': 'dott_bicycle',\n",
       " 'loc': {'lon': 3.709855, 'lat': 51.040778},\n",
       " 'time': '2024-01-16T18:47:43+01:00'}"
      ]
     },
     "execution_count": 10,
     "metadata": {},
     "output_type": "execute_result"
    },
    {
     "data": {
      "text/plain": [
       "{'bike_id': 'db52e93a-d7b2-499e-ab53-7811e66b8dc8',\n",
       " 'lat': 51.065098,\n",
       " 'lon': 3.709198,\n",
       " 'current_range_meters': 49600,\n",
       " 'pricing_plan_id': '0b2ebeb0-75ec-5da0-bc35-a0f7bfdef596',\n",
       " 'vehicle_type_id': '665460d8-fe6e-56e4-a3b1-2bd867304ca4',\n",
       " 'is_reserved': 0,\n",
       " 'is_disabled': 0,\n",
       " 'rental_uris': '{\"android\": \"https://bolt.onelink.me/sbJ2/77h7vloa?deep_link_value=bolt%253A%252F%252Faction%252FrentalsSelectVehicleByRotatedUuid%253Frotated_uuid%253Ddb52e93a-d7b2-499e-ab53-7811e66b8dc8&client_id=CITY_MAPPER\", \"ios\": \"https://bolt.onelink.me/sbJ2/77h7vloa?deep_link_value=bolt%253A%252F%252Faction%252FrentalsSelectVehicleByRotatedUuid%253Frotated_uuid%253Ddb52e93a-d7b2-499e-ab53-7811e66b8dc8&client_id=CITY_MAPPER\"}',\n",
       " 'loc': {'lon': 3.709198, 'lat': 51.065098}}"
      ]
     },
     "execution_count": 10,
     "metadata": {},
     "output_type": "execute_result"
    },
    {
     "data": {
      "text/plain": [
       "{'bike_id': '46a3eae8-d0d3-4347-9b5b-7067633a85ef',\n",
       " 'lat': 51.046048,\n",
       " 'lon': 3.742861,\n",
       " 'is_reserved': 0,\n",
       " 'is_disabled': 0,\n",
       " 'vehicle_type_id': '4cc4d04b-3c10-480f-9196-eb6dac3e3064',\n",
       " 'rental_uris': '{\"android\": \"https://eu-mobility.joyride.tech/api/v1/gbfs/rental?bike_id=46a3eae8-d0d3-4347-9b5b-7067633a85ef&platform=android\", \"ios\": \"https://eu-mobility.joyride.tech/api/v1/gbfs/rental?bike_id=46a3eae8-d0d3-4347-9b5b-7067633a85ef&platform=ios\"}',\n",
       " 'geopoint': {'lon': 3.742861, 'lat': 51.046048}}"
      ]
     },
     "execution_count": 10,
     "metadata": {},
     "output_type": "execute_result"
    }
   ],
   "source": [
    "# Inspect data\n",
    "data_json_dott[0].keys()\n",
    "data_json_bolt[0].keys()\n",
    "data_json_baqme[0].keys()\n",
    "\n",
    "data_json_dott[0]\n",
    "data_json_bolt[0]\n",
    "data_json_baqme[0]"
   ]
  },
  {
   "cell_type": "markdown",
   "id": "31ada38c-92eb-46f9-9dcf-3ef8ad5b6191",
   "metadata": {},
   "source": [
    "Then we add to each datapoint a key regarding their brand. The Baqme bikes also have no indication of their current range. So we add an empty key for this. Then we putt all those datapoints together so we can use them as 1 constant stream of input for the graph.  "
   ]
  },
  {
   "cell_type": "code",
   "execution_count": 11,
   "id": "469336b7-81ae-4032-8c25-81d5b2a8f5e3",
   "metadata": {},
   "outputs": [],
   "source": [
    "def add_brand(json_list: list, brand: str):\n",
    "    # color_dict = {\n",
    "    #     'Dott': 'blue',\n",
    "    #     'Bolt': 'green',\n",
    "    #     'Baqme': 'red'\n",
    "    # }\n",
    "    \n",
    "    for datapoint in json_list:\n",
    "        datapoint['brand'] = brand\n",
    "        # datapoint['color'] = color_dict[brand]"
   ]
  },
  {
   "cell_type": "code",
   "execution_count": 12,
   "id": "92ca0faa-07cf-48f3-a8d4-54ea20d92425",
   "metadata": {},
   "outputs": [],
   "source": [
    "add_brand(data_json_dott, 'Dott')\n",
    "add_brand(data_json_bolt, 'Bolt')\n",
    "add_brand(data_json_baqme, 'Baqme')\n",
    "\n",
    "# # Inspect data\n",
    "# data_json_dott[0]\n",
    "# data_json_bolt[0]\n",
    "# data_json_baqme[0]"
   ]
  },
  {
   "cell_type": "code",
   "execution_count": 13,
   "id": "f14c700e-dd5f-4188-adae-5e88fca2058b",
   "metadata": {},
   "outputs": [],
   "source": [
    "for data_point in data_json_baqme:\n",
    "    data_point[\"current_range_meters\"] = None"
   ]
  },
  {
   "cell_type": "code",
   "execution_count": 14,
   "id": "cbe0dd5a-eb63-40cc-ab70-6dcd39486d97",
   "metadata": {},
   "outputs": [
    {
     "data": {
      "text/plain": [
       "880"
      ]
     },
     "execution_count": 14,
     "metadata": {},
     "output_type": "execute_result"
    }
   ],
   "source": [
    "data_json_dott_bolt_baqme = data_json_dott + data_json_bolt + data_json_baqme\n",
    "\n",
    "# Inspect data\n",
    "len(data_json_dott_bolt_baqme)"
   ]
  },
  {
   "cell_type": "code",
   "execution_count": 15,
   "id": "b88636e6-5173-4e9d-a4c3-f39a569f27e5",
   "metadata": {},
   "outputs": [],
   "source": [
    "# # # Convert 'last_reported' string to datetime\n",
    "# # for entry in data_dott:\n",
    "# #     entry['last_reported'] = datetime.utcfromtimestamp(int(entry['last_reported'])).strftime('%Y-%m-%d %H:%M:%S')\n",
    "\n",
    "# # Transform to dataframe for easier handling\n",
    "# df_dott = pd.DataFrame(data_dott_json)"
   ]
  },
  {
   "cell_type": "code",
   "execution_count": 16,
   "id": "13a6f731-dbbb-46dc-b077-fcb3741582fa",
   "metadata": {},
   "outputs": [],
   "source": [
    "# # Inspect dataframe\n",
    "# df_dott.head()\n",
    "# df_dott.tail()\n",
    "# df_dott.columns\n",
    "# df_dott.shape"
   ]
  },
  {
   "cell_type": "code",
   "execution_count": 17,
   "id": "3c0513b2-b1e1-42d6-b1d6-7f3205733ca6",
   "metadata": {},
   "outputs": [],
   "source": [
    "# data_dott_json"
   ]
  },
  {
   "cell_type": "code",
   "execution_count": 18,
   "id": "47faab53-7d1c-4ae5-87c3-dffc5004492d",
   "metadata": {},
   "outputs": [],
   "source": [
    "# df_dott.columns"
   ]
  },
  {
   "cell_type": "code",
   "execution_count": 19,
   "id": "22761c5e-857b-4ff2-a5a7-1d85510c2f83",
   "metadata": {},
   "outputs": [],
   "source": [
    "# df_dott[\"vehicle_type_id\"].values"
   ]
  },
  {
   "cell_type": "markdown",
   "id": "6f6e9f79-64b4-41cd-bc5b-3bc90b322348",
   "metadata": {},
   "source": [
    "Initialize the Dash app"
   ]
  },
  {
   "cell_type": "code",
   "execution_count": 20,
   "id": "410ea6fb-e0b2-4a0b-9cd6-a2d0f1845886",
   "metadata": {},
   "outputs": [],
   "source": [
    "app = dash.Dash(__name__, \n",
    "\t\t# url_base_pathname='/visualisaties/parkeergarages-gent/',\n",
    "\t\tassets_folder='assets') # Relative path to the folder of css file)\n",
    "app.title = \"Beschikbaarheid fietsen\""
   ]
  },
  {
   "cell_type": "markdown",
   "id": "ad41e366-65c9-4899-aaa4-a76aa0745174",
   "metadata": {},
   "source": [
    "# Function to update graph"
   ]
  },
  {
   "cell_type": "markdown",
   "id": "a671af8e-e845-4d42-957c-f3dddde7fb38",
   "metadata": {},
   "source": [
    "For color setup, see https://stackoverflow.com/questions/72222646/python-plotly-scattermapbox-define-colors-by-category"
   ]
  },
  {
   "cell_type": "code",
   "execution_count": 21,
   "id": "f9e99fae-5c64-478d-af0c-9220a7da854e",
   "metadata": {},
   "outputs": [],
   "source": [
    "# def graph_dott(df):\n",
    "#     # Replace 'distance' with the actual column name containing the distances in meters\n",
    "#     df['range_km'] = df['current_range_meters'] / 1000\n",
    "#     # Create a new column in the DataFrame with formatted distances\n",
    "#     df['formatted_range'] = df['range_km'].apply(lambda x: f'{x:.1f} km')\n",
    "\n",
    "#     hover_template = \"<b>Dott</b><br>\" + \\\n",
    "#                      \"Beschikbare afstand: %{customdata[0]}\"\n",
    "\n",
    "#     # Create a map figure using go.Scattermapbox to allow modifying shape of markers\n",
    "#     fig = go.Figure(go.Scattermapbox(\n",
    "#         lat=df['lat'],\n",
    "#         lon=df['lon'],\n",
    "#         hoverinfo='text',\n",
    "#         hovertext=df['formatted_range'],\n",
    "#         mode='markers',\n",
    "#         marker=dict(\n",
    "#             size=10,  # Adjust the size as needed\n",
    "#             symbol='square',\n",
    "#             color='blue'  # Adjust the color as needed\n",
    "#         )\n",
    "#     ))\n",
    "\n",
    "#     # Update trace \n",
    "#     fig.update_traces(\n",
    "#         hovertemplate=hover_template  # Update hovertemplate\n",
    "#     )\n",
    "\n",
    "#     # Set the custom data for hovertemplate\n",
    "#     fig.update_traces(customdata=df[['formatted_range']].values)\n",
    "\n",
    "#     # Update the layout to hide the color scale legend\n",
    "#     fig.update_layout(\n",
    "#         mapbox=dict(\n",
    "#             style=\"carto-positron\",\n",
    "#             zoom=12,\n",
    "#             center=dict(lon=df['lon'].mean(), lat=df['lat'].mean())\n",
    "#         ),\n",
    "#         margin=dict(l=0, r=0, t=0, b=0),\n",
    "#         coloraxis_showscale=False\n",
    "#     )\n",
    "\n",
    "#     return fig\n"
   ]
  },
  {
   "cell_type": "code",
   "execution_count": 22,
   "id": "ce7262f9-d378-49f5-828f-172bfcdeeae4",
   "metadata": {},
   "outputs": [],
   "source": [
    "def graph_from_json(json_figures):\n",
    "    # Create a hovertemplate\n",
    "    hover_template = \"<b>%{customdata[0]</b><br>\" + \\\n",
    "                     \"Beschikbare afstand: %{customdata[1]}\"\n",
    "\n",
    "    # Create a map figure using go.Scattermapbox to allow modifying shape of markers\n",
    "    fig = go.Figure()\n",
    "\n",
    "    for json_figure in json_figures:\n",
    "        lat = json_figure['lat']\n",
    "        lon = json_figure['lon']\n",
    "        formatted_range = f\"{json_figure['current_range_meters'] / 1000:.1f} km\" if json_figure['current_range_meters'] != None else \"N/A\"\n",
    "        brand = json_figure['brand']\n",
    "\n",
    "        # Add each point to the map\n",
    "        fig.add_trace(go.Scattermapbox(\n",
    "            lat=[lat],\n",
    "            lon=[lon],\n",
    "            # hoverinfo='text',\n",
    "            # hovertext=[formatted_range],\n",
    "            mode='markers',\n",
    "            marker=go.scattermapbox.Marker(color=color_dict[brand])\n",
    "            # marker=dict(\n",
    "            #     size=10,  # Adjust the size as needed\n",
    "            #     symbol='square',\n",
    "            #     color='blue'  # Adjust the color as needed\n",
    "            )\n",
    "        )\n",
    "\n",
    "    # Update trace \n",
    "    fig.update_traces(\n",
    "        hovertemplate=hover_template  # Update hovertemplate\n",
    "    )\n",
    "\n",
    "    # Set the custom data for hovertemplate\n",
    "    fig.update_traces(customdata=[[brand, formatted_range] for _ in json_figures])\n",
    "\n",
    "    # Update the layout to hide the color scale legend\n",
    "    fig.update_layout(\n",
    "        mapbox=dict(\n",
    "            style=\"carto-positron\",\n",
    "            zoom=12,\n",
    "            center=dict(lon=json_figures[0]['lon'], lat=json_figures[0]['lat']),\n",
    "            # color=brand\n",
    "        ),\n",
    "        margin=dict(l=0, r=0, t=0, b=0),\n",
    "        coloraxis_showscale=False\n",
    "    )\n",
    "\n",
    "    return fig\n",
    "\n",
    "# Example usage\n",
    "# Replace json_figures with your actual list of JSON figures\n",
    "# fig = graph_dott(json_figures)\n",
    "# fig.show()\n"
   ]
  },
  {
   "cell_type": "code",
   "execution_count": 23,
   "id": "bd3ee755-4792-48c7-81ef-35fee3492e12",
   "metadata": {},
   "outputs": [],
   "source": [
    "# def graph_dott(df):\n",
    "#     # Create a hovertemplate\n",
    "#     # hover_template = \"<b>%{hovertext}</b><br>\" + \\\n",
    "#     #                  \"Fiets ID: %{customdata[0]}<br>\" + \\\n",
    "#     #                  \"Beschikbare afstand: %{customdata10]}\"\n",
    "\n",
    "#     hover_template = \"<b>Dott</b><br>\" + \\\n",
    "#                  \"Beschikbare afstand: %{customdata[0]}\"\n",
    "\n",
    "#     # Replace 'distance' with the actual column name containing the distances in meters\n",
    "#     df['range_km'] = df['current_range_meters'] / 1000\n",
    "#     # Create a new column in the DataFrame with formatted distances\n",
    "#     df['formatted_range'] = df['range_km'].apply(lambda x: f'{x:.1f} km')\n",
    "\n",
    "    \n",
    "#     # Create a map figure using px. Scatter_mapbox\n",
    "#     fig = px.scatter_mapbox(\n",
    "#         df,\n",
    "#         lat=df['lat'],\n",
    "#         lon=df['lon'],\n",
    "#         # color=df[\"vehicle_type_id\"],\n",
    "#         # size=\"current_range_meters\",\n",
    "#         # hover_name=\"bike_id\",\n",
    "#         hover_data={\"bike_id\": True, \n",
    "#                     \"current_range_meters\": True\n",
    "#                    },\n",
    "#         # # Create predefined color scale to ensure sufficient contrast, not coming close to white\n",
    "#         # color_continuous_scale=[\n",
    "#         #     [0.0, \"red\"],\n",
    "#         #     [0.3, \"orange\"],\n",
    "#         #     [0.5, \"yellow\"],\n",
    "#         #     [0.7, \"lime\"],\n",
    "#         #     [1.0, \"green\"]\n",
    "#         # ],\n",
    "#         # color_continuous_scale=\"RdYlGn\",  # Red (low available capacity) to Green (high available capacity)\n",
    "#         # range_color=[df[\"is_reserved\"].min(), df[\"is_reserved\"].max()],\n",
    "#         # color_discrete_map={\"dott_bicycle\": \"red\", \"0\": \"green\"},\n",
    "#         # For mapbox_styles, see https://plotly.com/python/mapbox-layers/ \n",
    "#         mapbox_style=\"carto-positron\", # light\n",
    "#         # mapbox_style=\"carto-darkmatter\", # dark\n",
    "#         # mapbox_style=\"open-street-map\", # street style\n",
    "#         zoom=12,\n",
    "#         # labels={'availablecapacity': 'Beschikbare parkeerplaatsen'}  # Set the legend label\n",
    "#     )\n",
    "    \n",
    "#     # Update trace \n",
    "#     fig.update_traces(\n",
    "#         # marker_symbol='square', # Update marker symbol to square\n",
    "#         hovertemplate=hover_template # Update hovertemplate\n",
    "#     )\n",
    "       \n",
    "#     # Set the custom data for hovertemplate\n",
    "#     fig.update_traces(customdata=df[[\n",
    "#         # 'bike_id', \n",
    "#         'formatted_range'\n",
    "#     ]].values)\n",
    "    \n",
    "    \n",
    "#     # Update the layout to hide the color scale legend (shows bad on mobile site)\n",
    "#     fig.update_layout(\n",
    "#         margin=dict(l=0, r=0, t=0, b=0),\n",
    "# \t\tcoloraxis_showscale=False,\n",
    "#         )\n",
    "    \n",
    "#     return fig\n"
   ]
  },
  {
   "cell_type": "code",
   "execution_count": 24,
   "id": "62e9180a-f30e-4c29-bf85-5475de45faa5",
   "metadata": {},
   "outputs": [],
   "source": [
    "# dott_graph = graph_dott(df_dott)"
   ]
  },
  {
   "cell_type": "code",
   "execution_count": 25,
   "id": "3616577e-326b-4d8f-bc5b-82f2489dba18",
   "metadata": {},
   "outputs": [],
   "source": [
    "json_graph = graph_from_json(data_json_dott_bolt_baqme)"
   ]
  },
  {
   "cell_type": "code",
   "execution_count": 26,
   "id": "35764e0a-8131-416f-b4fc-55ae265f98f1",
   "metadata": {},
   "outputs": [],
   "source": [
    "# # *****************************************************************************\n",
    "# # Show map\n",
    "# dott_graph.show()\n",
    "# # *****************************************************************************"
   ]
  },
  {
   "cell_type": "markdown",
   "id": "35d1fe18-b1f6-43a0-9c80-87d627b052ce",
   "metadata": {},
   "source": [
    "# Dash app"
   ]
  },
  {
   "cell_type": "markdown",
   "id": "e58d9ea6-4be9-49c8-b11d-e11cb9d0e226",
   "metadata": {},
   "source": [
    "## Layout"
   ]
  },
  {
   "cell_type": "code",
   "execution_count": 27,
   "id": "bf0c0874-a4ad-4732-b38c-edee6b504949",
   "metadata": {},
   "outputs": [],
   "source": [
    "# Define the app layout, using CSS Bootstrap\n",
    "app.layout = html.Div([\n",
    "    html.Link(rel='stylesheet', href='assets/styles.css'),  # Your custom CSS link\n",
    "    html.Link(rel='stylesheet', href='https://stackpath.bootstrapcdn.com/bootstrap/4.5.2/css/bootstrap.min.css'),  # Bootstrap CSS link\n",
    "\n",
    "    html.Div(className='container mt-4', children=[\n",
    "        html.H1(className='text-center', children=\"Beschikbaarheid deelfietsen\"),\n",
    "\n",
    "        # html.P(className='text-center', children=\"Beschikbaarheid van de verschillende parkeergarages binnen het Gentse stadscentrum.\"),\n",
    "\n",
    "        # html.Div(className='d-flex justify-content-between align-items-center flex-wrap', children=[ # Make button and update indicator more compact\n",
    "        #     html.Div(id='last-update-time', className='text-center pt-3 pb-2', children=get_last_update_time('../data/last_update.txt')),\n",
    "        \n",
    "        #     html.Div(className='text-center', children=[\n",
    "        #         html.Button(\"Update\", id=\"refresh-btn\", className='btn btn-primary mt-3 mb-3'),\n",
    "        #         dcc.Interval(id='refresh-interval-component', interval=10*60*1000, n_intervals=0)\n",
    "        #     ]),\n",
    "        # ]),\n",
    "                        \n",
    "        # html.Div(className='graph-container custom-graph-container', children=[ # Add custom-graph-container next to standard Bootstrap CSS style\n",
    "            \n",
    "        #     # Dropdown for selecting display option\n",
    "        #     dcc.Dropdown(\n",
    "        #         id='display-option',\n",
    "        #         options=[\n",
    "        #             {'label': 'Parkeergarages', 'value': 'parkings'},\n",
    "        #             {'label': 'Parkeertariefzones', 'value': 'parking-zones'},\n",
    "        #             {'label': 'Parkeergarages en parkeertariefzones', 'value': 'parkings_AND_parking-zones'},\n",
    "        #         ],\n",
    "        #         value='parkings',  # Set default value\n",
    "        #         multi=False  # Allow only one option to be selected\n",
    "        #     ),\n",
    "        #     # Graph                                                                 \n",
    "        #     dcc.Graph(id='live-update-graph', figure=update_parkings()),\n",
    "        #     dcc.Interval(id='update-graph-interval', interval=1*1000, n_intervals=0),\n",
    "        # ]),        \n",
    "\n",
    "        html.Div(\n",
    "            # dcc.Graph(figure=dott_graph)\n",
    "            dcc.Graph(figure=json_graph)\n",
    "        ),\n",
    "        # html.Footer(className='text-center', children=html.P([\n",
    "        #     \"De gegevens zijn beschikbaar via \",\n",
    "        #     html.A(\"Stad Gent API\", href=\"https://data.stad.gent/explore/dataset/bezetting-parkeergarages-real-time/table/?sort=-occupation\"),\n",
    "        #     \". De onderliggende code is beschikbaar op \",\n",
    "        #     html.A(\"GitHub\", href=\"https://github.com/NT131/parkeergarages_gent\"),\n",
    "            # \".\"\n",
    "        # ]))\n",
    "    ])\n",
    "])"
   ]
  },
  {
   "cell_type": "markdown",
   "id": "e3ff89da-1f2c-4684-9bd2-3959d5624294",
   "metadata": {},
   "source": [
    "## Run app"
   ]
  },
  {
   "cell_type": "code",
   "execution_count": 28,
   "id": "8d779f76-3303-444d-a46f-fcac510c11a8",
   "metadata": {},
   "outputs": [
    {
     "data": {
      "text/html": [
       "\n",
       "        <iframe\n",
       "            width=\"100%\"\n",
       "            height=\"650\"\n",
       "            src=\"http://127.0.0.1:8050/\"\n",
       "            frameborder=\"0\"\n",
       "            allowfullscreen\n",
       "            \n",
       "        ></iframe>\n",
       "        "
      ],
      "text/plain": [
       "<IPython.lib.display.IFrame at 0x7fcffefff910>"
      ]
     },
     "metadata": {},
     "output_type": "display_data"
    }
   ],
   "source": [
    "# Run the app\n",
    "if __name__ == '__main__':\n",
    "    app.run_server(debug=True)"
   ]
  },
  {
   "cell_type": "code",
   "execution_count": null,
   "id": "2efa380a-60ba-4b01-a81e-f8bf6e5d09ad",
   "metadata": {},
   "outputs": [],
   "source": []
  },
  {
   "cell_type": "markdown",
   "id": "e4adc5c5-f3e4-49be-a23d-704531eceab4",
   "metadata": {},
   "source": [
    "# Temp"
   ]
  },
  {
   "cell_type": "code",
   "execution_count": null,
   "id": "dc8d4003-0e3d-4e86-8ecf-bf9f77b897d8",
   "metadata": {},
   "outputs": [],
   "source": []
  },
  {
   "cell_type": "code",
   "execution_count": 29,
   "id": "9871bdb2-9f54-41c6-a217-dfdbfe6a2561",
   "metadata": {},
   "outputs": [],
   "source": [
    "# # Fetching data function (when using export function)\n",
    "# def fetch_data_dott_export(url):\n",
    "#     response = requests.get(url)\n",
    "#     if response.status_code == 200:\n",
    "#         data = response.json()  \n",
    "        \n",
    "#         # Convert 'last_reported' string to datetime\n",
    "#         for entry in data:\n",
    "#             entry['last_reported'] = datetime.utcfromtimestamp(int(entry['last_reported'])).strftime('%Y-%m-%d %H:%M:%S')\n",
    "        \n",
    "#         # # Convert to JSON\n",
    "#         # json_data = json.dumps(data\n",
    "#         #                        # , indent=2\n",
    "#         #                       )\n",
    "        \n",
    "#         # Write new data to file\n",
    "#         with open('../data/dott_fetched_data.json', 'w') as json_file:\n",
    "#             json.dump(data, json_file) \n",
    "#         print(\"Data (Dott bikes) fetched\")\n",
    "#         # return json_data\n",
    "    \n",
    "#     else:\n",
    "#         print(\"Failed to fetch data (Dott bikes)\")"
   ]
  },
  {
   "cell_type": "code",
   "execution_count": 30,
   "id": "01d32f53-6359-4641-818c-a1f4c4875072",
   "metadata": {},
   "outputs": [],
   "source": [
    "# # Fetching data function (when using API)\n",
    "# def fetch_data_dott_api(url):\n",
    "#     response = requests.get(url)\n",
    "#     if response.status_code == 200:\n",
    "#         data = response.json()    \n",
    "#         # Filter out the row with name \"Loop\"\n",
    "#         # filtered_data = [record for record in data.get(\"results\", []) if record.get(\"name\") != \"The Loop\"]\n",
    "#         data = [record for record in data.get(\"results\", [])]\n",
    "        \n",
    "#         # Write new data to file\n",
    "#         with open('../data/dott_fetched_data.json', 'w') as json_file:\n",
    "#             json.dump(data, json_file) \n",
    "#         print(\"Data (Dott bikes) fetched\")\n",
    "    \n",
    "#     else:\n",
    "#         print(\"Failed to fetch data (Dott bikes)\")"
   ]
  },
  {
   "cell_type": "code",
   "execution_count": null,
   "id": "232b94bf-5ae9-495a-836c-bccb21620940",
   "metadata": {},
   "outputs": [],
   "source": []
  },
  {
   "cell_type": "code",
   "execution_count": null,
   "id": "227ab8f4-937d-43b4-a565-c122e1d3dfc9",
   "metadata": {},
   "outputs": [],
   "source": []
  },
  {
   "cell_type": "code",
   "execution_count": 31,
   "id": "a628378e-ca9c-42ac-8706-2320b2257080",
   "metadata": {},
   "outputs": [],
   "source": [
    "# response = requests.get(url_dott)\n",
    "# data = response.json() "
   ]
  },
  {
   "cell_type": "code",
   "execution_count": 32,
   "id": "7bdadc4d-939b-4731-8bfd-76392ea051ae",
   "metadata": {},
   "outputs": [],
   "source": [
    "# data"
   ]
  },
  {
   "cell_type": "code",
   "execution_count": 33,
   "id": "f1db9843-4f81-4604-9814-71a6be17c289",
   "metadata": {},
   "outputs": [],
   "source": [
    "# # Convert 'last_reported' string to datetime\n",
    "# for entry in data:\n",
    "#     entry['last_reported'] = datetime.utcfromtimestamp(int(entry['last_reported'])).strftime('%Y-%m-%d %H:%M:%S')\n",
    "\n",
    "# # Create DataFrame\n",
    "# df = pd.DataFrame(data)\n",
    "# df"
   ]
  },
  {
   "cell_type": "code",
   "execution_count": 34,
   "id": "f55d3f2a-c4f2-4125-9a7b-d5c528c7de54",
   "metadata": {},
   "outputs": [],
   "source": [
    "# data_dott_json"
   ]
  },
  {
   "cell_type": "code",
   "execution_count": 35,
   "id": "23704238-5719-4bcd-9aef-f3215209d2c3",
   "metadata": {},
   "outputs": [],
   "source": [
    "\t### OPTION 1 ###\n",
    "\t# Fetch data file if it is not yet present\n",
    "# if not os.path.exists(\"../data/dott_fetched_data.json\"):\n",
    "#     fetch_data_dott()\n",
    "\t### OPTION 2 ###\n",
    "\t# Fetch data again on each time opening webpage\n",
    "# fetch_data_dott_api(url_dott)\n",
    "\n",
    "# data_dott_json = fetch_data_dott_export(url_dott)\n",
    "# fetch_data_dott_export(url_dott)"
   ]
  },
  {
   "cell_type": "code",
   "execution_count": null,
   "id": "18694bb1-4839-4b64-b6e3-7b505f2246d6",
   "metadata": {},
   "outputs": [],
   "source": []
  }
 ],
 "metadata": {
  "kernelspec": {
   "display_name": "Python 3 (Spyder)",
   "language": "python3",
   "name": "python3"
  },
  "language_info": {
   "codemirror_mode": {
    "name": "ipython",
    "version": 3
   },
   "file_extension": ".py",
   "mimetype": "text/x-python",
   "name": "python",
   "nbconvert_exporter": "python",
   "pygments_lexer": "ipython3",
   "version": "3.11.5"
  }
 },
 "nbformat": 4,
 "nbformat_minor": 5
}
