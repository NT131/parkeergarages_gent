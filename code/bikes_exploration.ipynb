{
 "cells": [
  {
   "cell_type": "markdown",
   "id": "81864072-8d00-4375-b23e-06e8017e534d",
   "metadata": {},
   "source": [
    "# Set up"
   ]
  },
  {
   "cell_type": "code",
   "execution_count": 1,
   "id": "e4d40f2a-0858-4db8-a296-546e6eec48ca",
   "metadata": {},
   "outputs": [],
   "source": [
    "import dash\n",
    "from dash import html, dcc\n",
    "from dash.dependencies import Output, Input\n",
    "\n",
    "import geopandas as gpd\n",
    "\n",
    "import pandas as pd\n",
    "\n",
    "import plotly.express as px\n",
    "import plotly.graph_objects as go # to create table using graphical objects\n",
    "\n",
    "import requests\n",
    "\n",
    "\n",
    "import os \n",
    "import json\n",
    "from datetime import datetime\n",
    "\n",
    "import locale"
   ]
  },
  {
   "cell_type": "code",
   "execution_count": 2,
   "id": "1aeee1c7-4a66-4356-8c6e-b9815c8c9341",
   "metadata": {},
   "outputs": [],
   "source": [
    "# #*****************************************************************************\n",
    "# import plotly.io as pio\n",
    "# # Ensure plots are shown in browser (during exploration)\n",
    "# pio.renderers.default='browser' # set browser as renderer\n",
    "# #*****************************************************************************"
   ]
  },
  {
   "cell_type": "code",
   "execution_count": 3,
   "id": "42273200-9244-435e-9265-0448dbb1629f",
   "metadata": {},
   "outputs": [],
   "source": [
    "# show all outputs of cell, not merely of last line (i.e. default of Jupyter Notebook)\n",
    "from IPython.core.interactiveshell import InteractiveShell\n",
    "InteractiveShell.ast_node_interactivity = \"all\""
   ]
  },
  {
   "cell_type": "code",
   "execution_count": 4,
   "id": "057cb02f-43b5-43b2-a53d-62ef37480ef9",
   "metadata": {},
   "outputs": [
    {
     "data": {
      "text/plain": [
       "'nl_BE.utf-8'"
      ]
     },
     "execution_count": 4,
     "metadata": {},
     "output_type": "execute_result"
    }
   ],
   "source": [
    "# Set Belgium time (for Dutch-language indicators of last update time)\n",
    "locale.setlocale(locale.LC_TIME, 'nl_BE.utf-8')"
   ]
  },
  {
   "cell_type": "markdown",
   "id": "d80fcae9-1bbb-45d9-986e-b797c3718e28",
   "metadata": {},
   "source": [
    "# Fetch data"
   ]
  },
  {
   "cell_type": "markdown",
   "id": "6b6b5370-15ae-46d6-ac75-5fd43a04225c",
   "metadata": {},
   "source": [
    "With fetching, there is apparently a limit on the amount of bikes you can fetch (i.e. \" Invalid value for limit API parameter: 200 was found but -1 <= limit <= 100 is expected.\"). "
   ]
  },
  {
   "cell_type": "code",
   "execution_count": 5,
   "id": "8e5a7839-a39e-4482-a3c1-49dc2baf1ba8",
   "metadata": {},
   "outputs": [],
   "source": [
    "url_dott = \"https://data.stad.gent/api/explore/v2.1/catalog/datasets/dott-deelfietsen-gent/exports/json?lang=nl&timezone=Europe%2FBrussels\"\n",
    "\n",
    "# url_dott = \"https://data.stad.gent//api/explore/v2.1/catalog/datasets/dott-deelfietsen-gent/records?limit=20\"\n",
    "# url_dott = \"https://data.stad.gent/api/explore/v2.1/catalog/datasets/dott-deelfietsen-gent/records?limit=200\"\n",
    " "
   ]
  },
  {
   "cell_type": "code",
   "execution_count": 6,
   "id": "9871bdb2-9f54-41c6-a217-dfdbfe6a2561",
   "metadata": {},
   "outputs": [],
   "source": [
    "# Fetching data function (when using export function)\n",
    "def fetch_data_dott_export(url):\n",
    "    response = requests.get(url)\n",
    "    if response.status_code == 200:\n",
    "        data = response.json()  \n",
    "        \n",
    "        # Convert 'last_reported' string to datetime\n",
    "        for entry in data:\n",
    "            entry['last_reported'] = datetime.utcfromtimestamp(int(entry['last_reported'])).strftime('%Y-%m-%d %H:%M:%S')\n",
    "        \n",
    "        # # Convert to JSON\n",
    "        # json_data = json.dumps(data\n",
    "        #                        # , indent=2\n",
    "        #                       )\n",
    "        \n",
    "        # Write new data to file\n",
    "        with open('../data/dott_fetched_data.json', 'w') as json_file:\n",
    "            json.dump(data, json_file) \n",
    "        print(\"Data (Dott bikes) fetched\")\n",
    "        # return json_data\n",
    "    \n",
    "    else:\n",
    "        print(\"Failed to fetch data (Dott bikes)\")"
   ]
  },
  {
   "cell_type": "markdown",
   "id": "277c676b-1140-4204-b4df-3bff77fb4965",
   "metadata": {},
   "source": [
    "# Initialize data and app"
   ]
  },
  {
   "cell_type": "markdown",
   "id": "b5594b67-e59a-4ffc-9733-2a6ee4e6cd8f",
   "metadata": {},
   "source": [
    "Fetch data"
   ]
  },
  {
   "cell_type": "code",
   "execution_count": 7,
   "id": "23704238-5719-4bcd-9aef-f3215209d2c3",
   "metadata": {},
   "outputs": [
    {
     "name": "stdout",
     "output_type": "stream",
     "text": [
      "Data (Dott bikes) fetched\n"
     ]
    }
   ],
   "source": [
    "\t### OPTION 1 ###\n",
    "\t# Fetch data file if it is not yet present\n",
    "# if not os.path.exists(\"../data/dott_fetched_data.json\"):\n",
    "#     fetch_data_dott()\n",
    "\t### OPTION 2 ###\n",
    "\t# Fetch data again on each time opening webpage\n",
    "# fetch_data_dott_api(url_dott)\n",
    "\n",
    "# data_dott_json = fetch_data_dott_export(url_dott)\n",
    "fetch_data_dott_export(url_dott)"
   ]
  },
  {
   "cell_type": "markdown",
   "id": "6f6e9f79-64b4-41cd-bc5b-3bc90b322348",
   "metadata": {},
   "source": [
    "Initialize the Dash app"
   ]
  },
  {
   "cell_type": "code",
   "execution_count": 8,
   "id": "410ea6fb-e0b2-4a0b-9cd6-a2d0f1845886",
   "metadata": {},
   "outputs": [],
   "source": [
    "app = dash.Dash(__name__, \n",
    "#\t\turl_base_pathname='/visualisaties/parkeergarages-gent/',\n",
    "\t\tassets_folder='assets') # Relative path to the folder of css file)\n",
    "app.title = \"Beschikbaarheid Dott fietsen\""
   ]
  },
  {
   "cell_type": "markdown",
   "id": "2ffa803b-af4d-4e54-a5b1-438a9a451ab3",
   "metadata": {},
   "source": [
    "Perform initial read-in of the filtered JSON file"
   ]
  },
  {
   "cell_type": "code",
   "execution_count": 9,
   "id": "c76bb3d3-e2c4-4702-98d2-b2d4f6500e4e",
   "metadata": {},
   "outputs": [],
   "source": [
    "with open('../data/dott_fetched_data.json', 'r') as json_file:\n",
    "    data_dott_json = json.load(json_file)"
   ]
  },
  {
   "cell_type": "code",
   "execution_count": 10,
   "id": "b88636e6-5173-4e9d-a4c3-f39a569f27e5",
   "metadata": {},
   "outputs": [],
   "source": [
    "# # Convert 'last_reported' string to datetime\n",
    "# for entry in data_dott:\n",
    "#     entry['last_reported'] = datetime.utcfromtimestamp(int(entry['last_reported'])).strftime('%Y-%m-%d %H:%M:%S')\n",
    "\n",
    "# Transform to dataframe for easier handling\n",
    "df_dott = pd.DataFrame(data_dott_json)"
   ]
  },
  {
   "cell_type": "code",
   "execution_count": 34,
   "id": "13a6f731-dbbb-46dc-b077-fcb3741582fa",
   "metadata": {},
   "outputs": [],
   "source": [
    "# # Inspect dataframe\n",
    "# df_dott.head()\n",
    "# df_dott.tail()\n",
    "# df_dott.columns\n",
    "# df_dott.shape"
   ]
  },
  {
   "cell_type": "code",
   "execution_count": 35,
   "id": "3c0513b2-b1e1-42d6-b1d6-7f3205733ca6",
   "metadata": {},
   "outputs": [],
   "source": [
    "# data_dott_json"
   ]
  },
  {
   "cell_type": "code",
   "execution_count": 13,
   "id": "47faab53-7d1c-4ae5-87c3-dffc5004492d",
   "metadata": {},
   "outputs": [],
   "source": [
    "# df_dott.columns"
   ]
  },
  {
   "cell_type": "code",
   "execution_count": 14,
   "id": "22761c5e-857b-4ff2-a5a7-1d85510c2f83",
   "metadata": {},
   "outputs": [],
   "source": [
    "# df_dott[\"vehicle_type_id\"].values"
   ]
  },
  {
   "cell_type": "markdown",
   "id": "ad41e366-65c9-4899-aaa4-a76aa0745174",
   "metadata": {},
   "source": [
    "# Function to update graph"
   ]
  },
  {
   "cell_type": "code",
   "execution_count": 29,
   "id": "bd3ee755-4792-48c7-81ef-35fee3492e12",
   "metadata": {},
   "outputs": [],
   "source": [
    "def graph_dott(df):\n",
    "    # Create a hovertemplate\n",
    "    # hover_template = \"<b>%{hovertext}</b><br>\" + \\\n",
    "    #                  \"Fiets ID: %{customdata[0]}<br>\" + \\\n",
    "    #                  \"Beschikbare afstand: %{customdata10]}\"\n",
    "\n",
    "    # Replace 'distance' with the actual column name containing the distances in meters\n",
    "    df['range_km'] = df['current_range_meters'] / 1000\n",
    "    # Create a new column in the DataFrame with formatted distances\n",
    "    df['formatted_range'] = df['range_km'].apply(lambda x: f'{x:.1f} km')\n",
    "\n",
    "    \n",
    "    hover_template = \"<b>Dott</b><br>\" + \\\n",
    "                     \"Beschikbare afstand: %{customdata[0]}\"\n",
    "    \n",
    "    # Create a map figure using Plotly Express\n",
    "    fig = px.scatter_mapbox(\n",
    "        df,\n",
    "        lat=df['lat'],\n",
    "        lon=df['lon'],\n",
    "        # color=df[\"vehicle_type_id\"],\n",
    "        # size=\"current_range_meters\",\n",
    "        # hover_name=\"bike_id\",\n",
    "        hover_data={\"bike_id\": True, \n",
    "                    \"current_range_meters\": True\n",
    "                   },\n",
    "        # # Create predefined color scale to ensure sufficient contrast, not coming close to white\n",
    "        # color_continuous_scale=[\n",
    "        #     [0.0, \"red\"],\n",
    "        #     [0.3, \"orange\"],\n",
    "        #     [0.5, \"yellow\"],\n",
    "        #     [0.7, \"lime\"],\n",
    "        #     [1.0, \"green\"]\n",
    "        # ],\n",
    "        # color_continuous_scale=\"RdYlGn\",  # Red (low available capacity) to Green (high available capacity)\n",
    "        # range_color=[df[\"is_reserved\"].min(), df[\"is_reserved\"].max()],\n",
    "        # color_discrete_map={\"dott_bicycle\": \"red\", \"0\": \"green\"},\n",
    "        # For mapbox_styles, see https://plotly.com/python/mapbox-layers/ \n",
    "        mapbox_style=\"carto-positron\", # light\n",
    "        # mapbox_style=\"carto-darkmatter\", # dark\n",
    "        # mapbox_style=\"open-street-map\", # street style\n",
    "        zoom=12,\n",
    "        # labels={'availablecapacity': 'Beschikbare parkeerplaatsen'}  # Set the legend label\n",
    "    )\n",
    "    \n",
    "    # Update hovertemplate\n",
    "    fig.update_traces(\n",
    "        hovertemplate=hover_template\n",
    "    )\n",
    "    \n",
    "    # Set the custom data for hovertemplate\n",
    "    fig.update_traces(customdata=df[[\n",
    "        # 'bike_id', \n",
    "        'formatted_range'\n",
    "    ]].values)\n",
    "    \n",
    "    \n",
    "    # Update the layout to hide the color scale legend (shows bad on mobile site)\n",
    "    fig.update_layout(\n",
    "        margin=dict(l=0, r=0, t=0, b=0),\n",
    "\t\tcoloraxis_showscale=False,\n",
    "        )\n",
    "    \n",
    "    return fig\n"
   ]
  },
  {
   "cell_type": "code",
   "execution_count": 30,
   "id": "62e9180a-f30e-4c29-bf85-5475de45faa5",
   "metadata": {},
   "outputs": [],
   "source": [
    "dott_graph = graph_dott(df_dott)"
   ]
  },
  {
   "cell_type": "code",
   "execution_count": 31,
   "id": "35764e0a-8131-416f-b4fc-55ae265f98f1",
   "metadata": {},
   "outputs": [],
   "source": [
    "# # *****************************************************************************\n",
    "# # Show map\n",
    "# dott_graph.show()\n",
    "# # *****************************************************************************"
   ]
  },
  {
   "cell_type": "markdown",
   "id": "35d1fe18-b1f6-43a0-9c80-87d627b052ce",
   "metadata": {},
   "source": [
    "# Dash app"
   ]
  },
  {
   "cell_type": "markdown",
   "id": "e58d9ea6-4be9-49c8-b11d-e11cb9d0e226",
   "metadata": {},
   "source": [
    "## Layout"
   ]
  },
  {
   "cell_type": "code",
   "execution_count": 32,
   "id": "bf0c0874-a4ad-4732-b38c-edee6b504949",
   "metadata": {},
   "outputs": [],
   "source": [
    "# Define the app layout, using CSS Bootstrap\n",
    "app.layout = html.Div([\n",
    "    html.Link(rel='stylesheet', href='assets/styles.css'),  # Your custom CSS link\n",
    "    html.Link(rel='stylesheet', href='https://stackpath.bootstrapcdn.com/bootstrap/4.5.2/css/bootstrap.min.css'),  # Bootstrap CSS link\n",
    "\n",
    "    html.Div(className='container mt-4', children=[\n",
    "        html.H1(className='text-center', children=\"Beschikbaarheid dott fietsen\"),\n",
    "\n",
    "        # html.P(className='text-center', children=\"Beschikbaarheid van de verschillende parkeergarages binnen het Gentse stadscentrum.\"),\n",
    "\n",
    "        # html.Div(className='d-flex justify-content-between align-items-center flex-wrap', children=[ # Make button and update indicator more compact\n",
    "        #     html.Div(id='last-update-time', className='text-center pt-3 pb-2', children=get_last_update_time('../data/last_update.txt')),\n",
    "        \n",
    "        #     html.Div(className='text-center', children=[\n",
    "        #         html.Button(\"Update\", id=\"refresh-btn\", className='btn btn-primary mt-3 mb-3'),\n",
    "        #         dcc.Interval(id='refresh-interval-component', interval=10*60*1000, n_intervals=0)\n",
    "        #     ]),\n",
    "        # ]),\n",
    "                        \n",
    "        # html.Div(className='graph-container custom-graph-container', children=[ # Add custom-graph-container next to standard Bootstrap CSS style\n",
    "            \n",
    "        #     # Dropdown for selecting display option\n",
    "        #     dcc.Dropdown(\n",
    "        #         id='display-option',\n",
    "        #         options=[\n",
    "        #             {'label': 'Parkeergarages', 'value': 'parkings'},\n",
    "        #             {'label': 'Parkeertariefzones', 'value': 'parking-zones'},\n",
    "        #             {'label': 'Parkeergarages en parkeertariefzones', 'value': 'parkings_AND_parking-zones'},\n",
    "        #         ],\n",
    "        #         value='parkings',  # Set default value\n",
    "        #         multi=False  # Allow only one option to be selected\n",
    "        #     ),\n",
    "        #     # Graph                                                                 \n",
    "        #     dcc.Graph(id='live-update-graph', figure=update_parkings()),\n",
    "        #     dcc.Interval(id='update-graph-interval', interval=1*1000, n_intervals=0),\n",
    "        # ]),        \n",
    "\n",
    "        html.Div(\n",
    "            dcc.Graph(figure=dott_graph)\n",
    "        ),\n",
    "        # html.Footer(className='text-center', children=html.P([\n",
    "        #     \"De gegevens zijn beschikbaar via \",\n",
    "        #     html.A(\"Stad Gent API\", href=\"https://data.stad.gent/explore/dataset/bezetting-parkeergarages-real-time/table/?sort=-occupation\"),\n",
    "        #     \". De onderliggende code is beschikbaar op \",\n",
    "        #     html.A(\"GitHub\", href=\"https://github.com/NT131/parkeergarages_gent\"),\n",
    "            # \".\"\n",
    "        # ]))\n",
    "    ])\n",
    "])"
   ]
  },
  {
   "cell_type": "markdown",
   "id": "e3ff89da-1f2c-4684-9bd2-3959d5624294",
   "metadata": {},
   "source": [
    "## Run app"
   ]
  },
  {
   "cell_type": "code",
   "execution_count": 33,
   "id": "8d779f76-3303-444d-a46f-fcac510c11a8",
   "metadata": {},
   "outputs": [
    {
     "ename": "AssertionError",
     "evalue": "The setup method 'errorhandler' can no longer be called on the application. It has already handled its first request, any changes will not be applied consistently.\nMake sure all imports, decorators, functions, etc. needed to set up the application are done before running it.",
     "output_type": "error",
     "traceback": [
      "Traceback \u001b[0;36m(most recent call last)\u001b[0m:\n",
      "\u001b[0m  Cell \u001b[1;32mIn[33], line 3\u001b[0m\n    app.run_server(debug=True)\u001b[0m\n",
      "\u001b[0m  File \u001b[1;32m~/software/miniconda3/envs/data_handling_env/lib/python3.11/site-packages/dash/dash.py:2175\u001b[0m in \u001b[1;35mrun_server\u001b[0m\n    self.run(*args, **kwargs)\u001b[0m\n",
      "\u001b[0m  File \u001b[1;32m~/software/miniconda3/envs/data_handling_env/lib/python3.11/site-packages/dash/dash.py:1997\u001b[0m in \u001b[1;35mrun\u001b[0m\n    debug = self.enable_dev_tools(\u001b[0m\n",
      "\u001b[0m  File \u001b[1;32m~/software/miniconda3/envs/data_handling_env/lib/python3.11/site-packages/dash/dash.py:1767\u001b[0m in \u001b[1;35menable_dev_tools\u001b[0m\n    jupyter_dash.configure_callback_exception_handling(\u001b[0m\n",
      "\u001b[0m  File \u001b[1;32m~/software/miniconda3/envs/data_handling_env/lib/python3.11/site-packages/dash/_jupyter.py:443\u001b[0m in \u001b[1;35mconfigure_callback_exception_handling\u001b[0m\n    @app.server.errorhandler(Exception)\u001b[0m\n",
      "\u001b[0m  File \u001b[1;32m~/software/miniconda3/envs/data_handling_env/lib/python3.11/site-packages/flask/sansio/scaffold.py:43\u001b[0m in \u001b[1;35mwrapper_func\u001b[0m\n    self._check_setup_finished(f_name)\u001b[0m\n",
      "\u001b[0;36m  File \u001b[0;32m~/software/miniconda3/envs/data_handling_env/lib/python3.11/site-packages/flask/sansio/app.py:417\u001b[0;36m in \u001b[0;35m_check_setup_finished\u001b[0;36m\n\u001b[0;31m    raise AssertionError(\u001b[0;36m\n",
      "\u001b[0;31mAssertionError\u001b[0m\u001b[0;31m:\u001b[0m The setup method 'errorhandler' can no longer be called on the application. It has already handled its first request, any changes will not be applied consistently.\nMake sure all imports, decorators, functions, etc. needed to set up the application are done before running it.\n"
     ]
    },
    {
     "name": "stdout",
     "output_type": "stream",
     "text": [
      "\u001b[1;31m---------------------------------------------------------------------------\u001b[0m\n",
      "\u001b[1;31mNotFound\u001b[0m                                  Traceback (most recent call last)\n",
      "File \u001b[1;32m~/software/miniconda3/envs/data_handling_env/lib/python3.11/site-packages/flask/app.py:867\u001b[0m, in \u001b[0;36mFlask.full_dispatch_request\u001b[1;34m(self=<Flask '__main__'>)\u001b[0m\n",
      "\u001b[0;32m    865\u001b[0m     rv \u001b[38;5;241m=\u001b[39m \u001b[38;5;28mself\u001b[39m\u001b[38;5;241m.\u001b[39mpreprocess_request()\n",
      "\u001b[0;32m    866\u001b[0m     \u001b[38;5;28;01mif\u001b[39;00m rv \u001b[38;5;129;01mis\u001b[39;00m \u001b[38;5;28;01mNone\u001b[39;00m:\n",
      "\u001b[1;32m--> 867\u001b[0m         rv \u001b[38;5;241m=\u001b[39m \u001b[38;5;28mself\u001b[39m\u001b[38;5;241m.\u001b[39mdispatch_request()\n",
      "        self \u001b[1;34m= <Flask '__main__'>\u001b[0m\u001b[1;34m\n",
      "        \u001b[0mrv \u001b[1;34m= None\u001b[0m\n",
      "\u001b[0;32m    868\u001b[0m \u001b[38;5;28;01mexcept\u001b[39;00m \u001b[38;5;167;01mException\u001b[39;00m \u001b[38;5;28;01mas\u001b[39;00m e:\n",
      "\u001b[0;32m    869\u001b[0m     rv \u001b[38;5;241m=\u001b[39m \u001b[38;5;28mself\u001b[39m\u001b[38;5;241m.\u001b[39mhandle_user_exception(e)\n",
      "\n",
      "File \u001b[1;32m~/software/miniconda3/envs/data_handling_env/lib/python3.11/site-packages/flask/app.py:852\u001b[0m, in \u001b[0;36mFlask.dispatch_request\u001b[1;34m(self=<Flask '__main__'>)\u001b[0m\n",
      "\u001b[0;32m    850\u001b[0m \u001b[38;5;66;03m# otherwise dispatch to the handler for that endpoint\u001b[39;00m\n",
      "\u001b[0;32m    851\u001b[0m view_args: \u001b[38;5;28mdict\u001b[39m[\u001b[38;5;28mstr\u001b[39m, t\u001b[38;5;241m.\u001b[39mAny] \u001b[38;5;241m=\u001b[39m req\u001b[38;5;241m.\u001b[39mview_args  \u001b[38;5;66;03m# type: ignore[assignment]\u001b[39;00m\n",
      "\u001b[1;32m--> 852\u001b[0m \u001b[38;5;28;01mreturn\u001b[39;00m \u001b[38;5;28mself\u001b[39m\u001b[38;5;241m.\u001b[39mensure_sync(\u001b[38;5;28mself\u001b[39m\u001b[38;5;241m.\u001b[39mview_functions[rule\u001b[38;5;241m.\u001b[39mendpoint])(\u001b[38;5;241m*\u001b[39m\u001b[38;5;241m*\u001b[39mview_args)\n",
      "        rule \u001b[1;34m= <Rule '/assets/<filename>' (HEAD, GET, OPTIONS) -> _dash_assets.static>\u001b[0m\u001b[1;34m\n",
      "        \u001b[0mview_args \u001b[1;34m= {'filename': 'styles.css'}\u001b[0m\u001b[1;34m\n",
      "        \u001b[0mself.view_functions[rule.endpoint] \u001b[1;34m= <bound method Blueprint.send_static_file of <Blueprint '_dash_assets'>>\u001b[0m\u001b[1;34m\n",
      "        \u001b[0mself \u001b[1;34m= <Flask '__main__'>\u001b[0m\u001b[1;34m\n",
      "        \u001b[0mself.view_functions \u001b[1;34m= {'static': <function Flask.__init__.<locals>.<lambda> at 0x7fb3d6e54ea0>, '_dash_assets.static': <bound method Blueprint.send_static_file of <Blueprint '_dash_assets'>>, '/_dash-component-suites/<string:package_name>/<path:fingerprinted_path>': <bound method Dash.serve_component_suites of <dash.dash.Dash object at 0x7fb3d6ef1050>>, '/_dash-layout': <bound method Dash.serve_layout of <dash.dash.Dash object at 0x7fb3d6ef1050>>, '/_dash-dependencies': <bound method Dash.dependencies of <dash.dash.Dash object at 0x7fb3d6ef1050>>, '/_dash-update-component': <bound method Dash.dispatch of <dash.dash.Dash object at 0x7fb3d6ef1050>>, '/_reload-hash': <bound method Dash.serve_reload_hash of <dash.dash.Dash object at 0x7fb3d6ef1050>>, '/_favicon.ico': <function Dash._serve_default_favicon at 0x7fb3f0783ec0>, '/': <bound method Dash.index of <dash.dash.Dash object at 0x7fb3d6ef1050>>, '/_alive_9623a3a2-7723-424b-b543-1b5a895fb30c': <function JupyterDash.serve_alive at 0x7fb3f0782a20>, '/<path:path>': <bound method Dash.index of <dash.dash.Dash object at 0x7fb3d6ef1050>>}\u001b[0m\u001b[1;34m\n",
      "        \u001b[0mrule.endpoint \u001b[1;34m= '_dash_assets.static'\u001b[0m\n",
      "\n",
      "File \u001b[1;32m~/software/miniconda3/envs/data_handling_env/lib/python3.11/site-packages/flask/blueprints.py:62\u001b[0m, in \u001b[0;36mBlueprint.send_static_file\u001b[1;34m(\n",
      "    self=<Blueprint '_dash_assets'>,\n",
      "    filename='styles.css'\n",
      ")\u001b[0m\n",
      "\u001b[0;32m     59\u001b[0m \u001b[38;5;66;03m# send_file only knows to call get_send_file_max_age on the app,\u001b[39;00m\n",
      "\u001b[0;32m     60\u001b[0m \u001b[38;5;66;03m# call it here so it works for blueprints too.\u001b[39;00m\n",
      "\u001b[0;32m     61\u001b[0m max_age \u001b[38;5;241m=\u001b[39m \u001b[38;5;28mself\u001b[39m\u001b[38;5;241m.\u001b[39mget_send_file_max_age(filename)\n",
      "\u001b[1;32m---> 62\u001b[0m \u001b[38;5;28;01mreturn\u001b[39;00m send_from_directory(\n",
      "        max_age \u001b[1;34m= None\u001b[0m\u001b[1;34m\n",
      "        \u001b[0mfilename \u001b[1;34m= 'styles.css'\u001b[0m\u001b[1;34m\n",
      "        \u001b[0mself \u001b[1;34m= <Blueprint '_dash_assets'>\u001b[0m\u001b[1;34m\n",
      "        \u001b[0mt \u001b[1;34m= <module 'typing' from '/home/niels_tack/software/miniconda3/envs/data_handling_env/lib/python3.11/typing.py'>\u001b[0m\n",
      "\u001b[0;32m     63\u001b[0m     t\u001b[38;5;241m.\u001b[39mcast(\u001b[38;5;28mstr\u001b[39m, \u001b[38;5;28mself\u001b[39m\u001b[38;5;241m.\u001b[39mstatic_folder), filename, max_age\u001b[38;5;241m=\u001b[39mmax_age\n",
      "\u001b[0;32m     64\u001b[0m )\n",
      "\n",
      "File \u001b[1;32m~/software/miniconda3/envs/data_handling_env/lib/python3.11/site-packages/flask/helpers.py:554\u001b[0m, in \u001b[0;36msend_from_directory\u001b[1;34m(\n",
      "    directory='/home/niels_tack/Projecten/data_handling/parkeergarages_gent/code/assets',\n",
      "    path='styles.css',\n",
      "    **kwargs={'max_age': None}\n",
      ")\u001b[0m\n",
      "\u001b[0;32m    516\u001b[0m \u001b[38;5;28;01mdef\u001b[39;00m \u001b[38;5;21msend_from_directory\u001b[39m(\n",
      "\u001b[0;32m    517\u001b[0m     directory: os\u001b[38;5;241m.\u001b[39mPathLike \u001b[38;5;241m|\u001b[39m \u001b[38;5;28mstr\u001b[39m,\n",
      "\u001b[0;32m    518\u001b[0m     path: os\u001b[38;5;241m.\u001b[39mPathLike \u001b[38;5;241m|\u001b[39m \u001b[38;5;28mstr\u001b[39m,\n",
      "\u001b[0;32m    519\u001b[0m     \u001b[38;5;241m*\u001b[39m\u001b[38;5;241m*\u001b[39mkwargs: t\u001b[38;5;241m.\u001b[39mAny,\n",
      "\u001b[0;32m    520\u001b[0m ) \u001b[38;5;241m-\u001b[39m\u001b[38;5;241m>\u001b[39m Response:\n",
      "\u001b[0;32m    521\u001b[0m \u001b[38;5;250m    \u001b[39m\u001b[38;5;124;03m\"\"\"Send a file from within a directory using :func:`send_file`.\u001b[39;00m\n",
      "\u001b[0;32m    522\u001b[0m \n",
      "\u001b[0;32m    523\u001b[0m \u001b[38;5;124;03m    .. code-block:: python\u001b[39;00m\n",
      "\u001b[1;32m   (...)\u001b[0m\n",
      "\u001b[0;32m    552\u001b[0m \u001b[38;5;124;03m    .. versionadded:: 0.5\u001b[39;00m\n",
      "\u001b[0;32m    553\u001b[0m \u001b[38;5;124;03m    \"\"\"\u001b[39;00m\n",
      "\u001b[1;32m--> 554\u001b[0m     \u001b[38;5;28;01mreturn\u001b[39;00m werkzeug\u001b[38;5;241m.\u001b[39mutils\u001b[38;5;241m.\u001b[39msend_from_directory(  \u001b[38;5;66;03m# type: ignore[return-value]\u001b[39;00m\n",
      "        werkzeug.utils \u001b[1;34m= <module 'werkzeug.utils' from '/home/niels_tack/software/miniconda3/envs/data_handling_env/lib/python3.11/site-packages/werkzeug/utils.py'>\u001b[0m\u001b[1;34m\n",
      "        \u001b[0mdirectory \u001b[1;34m= '/home/niels_tack/Projecten/data_handling/parkeergarages_gent/code/assets'\u001b[0m\u001b[1;34m\n",
      "        \u001b[0mpath \u001b[1;34m= 'styles.css'\u001b[0m\u001b[1;34m\n",
      "        \u001b[0mkwargs \u001b[1;34m= {'max_age': None}\u001b[0m\n",
      "\u001b[0;32m    555\u001b[0m         directory, path, \u001b[38;5;241m*\u001b[39m\u001b[38;5;241m*\u001b[39m_prepare_send_file_kwargs(\u001b[38;5;241m*\u001b[39m\u001b[38;5;241m*\u001b[39mkwargs)\n",
      "\u001b[0;32m    556\u001b[0m     )\n",
      "\n",
      "File \u001b[1;32m~/software/miniconda3/envs/data_handling_env/lib/python3.11/site-packages/werkzeug/utils.py:574\u001b[0m, in \u001b[0;36msend_from_directory\u001b[1;34m(\n",
      "    directory='/home/niels_tack/Projecten/data_handling/parkeergarages_gent/code/assets',\n",
      "    path='/home/niels_tack/Projecten/data_handling/parkeergarages_gent/code/assets/styles.css',\n",
      "    environ={'HTTP_ACCEPT': 'text/css,*/*;q=0.1', 'HTTP_ACCEPT_ENCODING': 'gzip, deflate, br', 'HTTP_ACCEPT_LANGUAGE': 'nl,en-US;q=0.7,en;q=0.3', 'HTTP_CONNECTION': 'keep-alive', 'HTTP_DNT': '1', 'HTTP_HOST': '127.0.0.1:8050', 'HTTP_REFERER': 'http://127.0.0.1:8050/', 'HTTP_SEC_FETCH_DEST': 'style', 'HTTP_SEC_FETCH_MODE': 'no-cors', 'HTTP_SEC_FETCH_SITE': 'same-origin', ...},\n",
      "    **kwargs={'_root_path': '/home/niels_tack/Projecten/data_handling/parkeergarages_gent/code', 'max_age': <bound method Flask.get_send_file_max_age of <Flask '__main__'>>, 'response_class': <class 'flask.wrappers.Response'>, 'use_x_sendfile': False}\n",
      ")\u001b[0m\n",
      "\u001b[0;32m    571\u001b[0m     path \u001b[38;5;241m=\u001b[39m os\u001b[38;5;241m.\u001b[39mpath\u001b[38;5;241m.\u001b[39mjoin(kwargs[\u001b[38;5;124m\"\u001b[39m\u001b[38;5;124m_root_path\u001b[39m\u001b[38;5;124m\"\u001b[39m], path)\n",
      "\u001b[0;32m    573\u001b[0m \u001b[38;5;28;01mif\u001b[39;00m \u001b[38;5;129;01mnot\u001b[39;00m os\u001b[38;5;241m.\u001b[39mpath\u001b[38;5;241m.\u001b[39misfile(path):\n",
      "\u001b[1;32m--> 574\u001b[0m     \u001b[38;5;28;01mraise\u001b[39;00m NotFound()\n",
      "\u001b[0;32m    576\u001b[0m \u001b[38;5;28;01mreturn\u001b[39;00m send_file(path, environ, \u001b[38;5;241m*\u001b[39m\u001b[38;5;241m*\u001b[39mkwargs)\n",
      "\n",
      "\u001b[1;31mNotFound\u001b[0m: 404 Not Found: The requested URL was not found on the server. If you entered the URL manually please check your spelling and try again.\n",
      "\n"
     ]
    }
   ],
   "source": [
    "# Run the app\n",
    "if __name__ == '__main__':\n",
    "    app.run_server(debug=True)"
   ]
  },
  {
   "cell_type": "code",
   "execution_count": null,
   "id": "2efa380a-60ba-4b01-a81e-f8bf6e5d09ad",
   "metadata": {},
   "outputs": [],
   "source": []
  },
  {
   "cell_type": "markdown",
   "id": "e4adc5c5-f3e4-49be-a23d-704531eceab4",
   "metadata": {},
   "source": [
    "# Temp"
   ]
  },
  {
   "cell_type": "code",
   "execution_count": null,
   "id": "dc8d4003-0e3d-4e86-8ecf-bf9f77b897d8",
   "metadata": {},
   "outputs": [],
   "source": []
  },
  {
   "cell_type": "code",
   "execution_count": null,
   "id": "01d32f53-6359-4641-818c-a1f4c4875072",
   "metadata": {},
   "outputs": [],
   "source": [
    "# # Fetching data function (when using API)\n",
    "# def fetch_data_dott_api(url):\n",
    "#     response = requests.get(url)\n",
    "#     if response.status_code == 200:\n",
    "#         data = response.json()    \n",
    "#         # Filter out the row with name \"Loop\"\n",
    "#         # filtered_data = [record for record in data.get(\"results\", []) if record.get(\"name\") != \"The Loop\"]\n",
    "#         data = [record for record in data.get(\"results\", [])]\n",
    "        \n",
    "#         # Write new data to file\n",
    "#         with open('../data/dott_fetched_data.json', 'w') as json_file:\n",
    "#             json.dump(data, json_file) \n",
    "#         print(\"Data (Dott bikes) fetched\")\n",
    "    \n",
    "#     else:\n",
    "#         print(\"Failed to fetch data (Dott bikes)\")"
   ]
  },
  {
   "cell_type": "code",
   "execution_count": null,
   "id": "232b94bf-5ae9-495a-836c-bccb21620940",
   "metadata": {},
   "outputs": [],
   "source": []
  },
  {
   "cell_type": "code",
   "execution_count": null,
   "id": "227ab8f4-937d-43b4-a565-c122e1d3dfc9",
   "metadata": {},
   "outputs": [],
   "source": []
  },
  {
   "cell_type": "code",
   "execution_count": null,
   "id": "a628378e-ca9c-42ac-8706-2320b2257080",
   "metadata": {},
   "outputs": [],
   "source": [
    "# response = requests.get(url_dott)\n",
    "# data = response.json() "
   ]
  },
  {
   "cell_type": "code",
   "execution_count": null,
   "id": "7bdadc4d-939b-4731-8bfd-76392ea051ae",
   "metadata": {},
   "outputs": [],
   "source": [
    "# data"
   ]
  },
  {
   "cell_type": "code",
   "execution_count": null,
   "id": "f1db9843-4f81-4604-9814-71a6be17c289",
   "metadata": {},
   "outputs": [],
   "source": [
    "# # Convert 'last_reported' string to datetime\n",
    "# for entry in data:\n",
    "#     entry['last_reported'] = datetime.utcfromtimestamp(int(entry['last_reported'])).strftime('%Y-%m-%d %H:%M:%S')\n",
    "\n",
    "# # Create DataFrame\n",
    "# df = pd.DataFrame(data)\n",
    "# df"
   ]
  },
  {
   "cell_type": "code",
   "execution_count": null,
   "id": "f55d3f2a-c4f2-4125-9a7b-d5c528c7de54",
   "metadata": {},
   "outputs": [],
   "source": [
    "# data_dott_json"
   ]
  }
 ],
 "metadata": {
  "kernelspec": {
   "display_name": "Python 3 (Spyder)",
   "language": "python3",
   "name": "python3"
  },
  "language_info": {
   "codemirror_mode": {
    "name": "ipython",
    "version": 3
   },
   "file_extension": ".py",
   "mimetype": "text/x-python",
   "name": "python",
   "nbconvert_exporter": "python",
   "pygments_lexer": "ipython3",
   "version": "3.11.5"
  }
 },
 "nbformat": 4,
 "nbformat_minor": 5
}
